{
 "cells": [
  {
   "cell_type": "markdown",
   "metadata": {},
   "source": [
    "# Cipher Class\n",
    "\n",
    "Below is the weak cipher provided as part of the challenge."
   ]
  },
  {
   "cell_type": "code",
   "execution_count": 1,
   "metadata": {},
   "outputs": [],
   "source": [
    "import secrets\n",
    "\n",
    "class Cipher:\n",
    "\t# change the Sbox\n",
    "\tsbox = [0xaa,0xa9,0xac,0xaf,0xae,0xad,0xa8,0xab,0xa1,0xa2,0xa7,0xa4,0xa5,0xa6,0xa3,0xa0,0x9a,0x99,0x9c,0x9f,0x9e,0x9d,0x98,0x9b,0x91,0x92,0x97,0x94,0x95,0x96,0x93,0x90,0xca,0xc9,0xcc,0xcf,0xce,0xcd,0xc8,0xcb,0xc1,0xc2,0xc7,0xc4,0xc5,0xc6,0xc3,0xc0,0xfa,0xf9,0xfc,0xff,0xfe,0xfd,0xf8,0xfb,0xf1,0xf2,0xf7,0xf4,0xf5,0xf6,0xf3,0xf0,0xea,0xe9,0xec,0xef,0xee,0xed,0xe8,0xeb,0xe1,0xe2,0xe7,0xe4,0xe5,0xe6,0xe3,0xe0,0xda,0xd9,0xdc,0xdf,0xde,0xdd,0xd8,0xdb,0xd1,0xd2,0xd7,0xd4,0xd5,0xd6,0xd3,0xd0,0x8a,0x89,0x8c,0x8f,0x8e,0x8d,0x88,0x8b,0x81,0x82,0x87,0x84,0x85,0x86,0x83,0x80,0xba,0xb9,0xbc,0xbf,0xbe,0xbd,0xb8,0xbb,0xb1,0xb2,0xb7,0xb4,0xb5,0xb6,0xb3,0xb0,0x1a,0x19,0x1c,0x1f,0x1e,0x1d,0x18,0x1b,0x11,0x12,0x17,0x14,0x15,0x16,0x13,0x10,0x2a,0x29,0x2c,0x2f,0x2e,0x2d,0x28,0x2b,0x21,0x22,0x27,0x24,0x25,0x26,0x23,0x20,0x7a,0x79,0x7c,0x7f,0x7e,0x7d,0x78,0x7b,0x71,0x72,0x77,0x74,0x75,0x76,0x73,0x70,0x4a,0x49,0x4c,0x4f,0x4e,0x4d,0x48,0x4b,0x41,0x42,0x47,0x44,0x45,0x46,0x43,0x40,0x5a,0x59,0x5c,0x5f,0x5e,0x5d,0x58,0x5b,0x51,0x52,0x57,0x54,0x55,0x56,0x53,0x50,0x6a,0x69,0x6c,0x6f,0x6e,0x6d,0x68,0x6b,0x61,0x62,0x67,0x64,0x65,0x66,0x63,0x60,0x3a,0x39,0x3c,0x3f,0x3e,0x3d,0x38,0x3b,0x31,0x32,0x37,0x34,0x35,0x36,0x33,0x30,0xa,0x9,0xc,0xf,0xe,0xd,0x8,0xb,0x1,0x2,0x7,0x4,0x5,0x6,0x3,0x0]\n",
    "\trcon = [0x8d,0x01,0x02,0x04,0x08,0x10,0x20,0x40,0x80,0x1b,0x36,0x6c,0xd8,0xab,0x4d,0x9a,0x2f,0x5e,0xbc,0x63,0xc6,0x97,0x35,0x6a,0xd4,0xb3,0x7d,0xfa,0xef,0xc5,0x91,0x39,0x72,0xe4,0xd3,0xbd,0x61,0xc2,0x9f,0x25,0x4a,0x94,0x33,0x66,0xcc,0x83,0x1d,0x3a,0x74,0xe8,0xcb,0x8d,0x01,0x02,0x04,0x08,0x10,0x20,0x40,0x80,0x1b,0x36,0x6c,0xd8,0xab,0x4d,0x9a,0x2f,0x5e,0xbc,0x63,0xc6,0x97,0x35,0x6a,0xd4,0xb3,0x7d,0xfa,0xef,0xc5,0x91,0x39,0x72,0xe4,0xd3,0xbd,0x61,0xc2,0x9f,0x25,0x4a,0x94,0x33,0x66,0xcc,0x83,0x1d,0x3a,0x74,0xe8,0xcb,0x8d,0x01,0x02,0x04,0x08,0x10,0x20,0x40,0x80,0x1b,0x36,0x6c,0xd8,0xab,0x4d,0x9a,0x2f,0x5e,0xbc,0x63,0xc6,0x97,0x35,0x6a,0xd4,0xb3,0x7d,0xfa,0xef,0xc5,0x91,0x39,0x72,0xe4,0xd3,0xbd,0x61,0xc2,0x9f,0x25,0x4a,0x94,0x33,0x66,0xcc,0x83,0x1d,0x3a,0x74,0xe8,0xcb,0x8d,0x01,0x02,0x04,0x08,0x10,0x20,0x40,0x80,0x1b,0x36,0x6c,0xd8,0xab,0x4d,0x9a,0x2f,0x5e,0xbc,0x63,0xc6,0x97,0x35,0x6a,0xd4,0xb3,0x7d,0xfa,0xef,0xc5,0x91,0x39,0x72,0xe4,0xd3,0xbd,0x61,0xc2,0x9f,0x25,0x4a,0x94,0x33,0x66,0xcc,0x83,0x1d,0x3a,0x74,0xe8,0xcb,0x8d,0x01,0x02,0x04,0x08,0x10,0x20,0x40,0x80,0x1b,0x36,0x6c,0xd8,0xab,0x4d,0x9a,0x2f,0x5e,0xbc,0x63,0xc6,0x97,0x35,0x6a,0xd4,0xb3,0x7d,0xfa,0xef,0xc5,0x91,0x39,0x72,0xe4,0xd3,0xbd,0x61,0xc2,0x9f,0x25,0x4a,0x94,0x33,0x66,0xcc,0x83,0x1d,0x3a,0x74,0xe8,0xcb,0x8d]\n",
    "\t\n",
    "\tdef __init__(self,tweak):\n",
    "\t\tself.key = secrets.randbits(128)\n",
    "\t\tself.round_keys = self.KeySchedule()\n",
    "\t\tself.tweak = []\n",
    "\t\tfor i in range(4):\n",
    "\t\t\tself.tweak.extend([((tweak >> (56 - 8*j - 2*8*i)) & 0xff) for j in range(2)])\n",
    "\t\t\tself.tweak.extend([0,0])\n",
    "\n",
    "\tdef KeySchedule(self):\n",
    "\t\tkeys = [[((self.key >> (120 - 8*j)) & 0xff) for j in range(16)]]\n",
    "\t\tfor i in range(10):\n",
    "\t\t\ttmp_key = [0 for _ in range(16)]\n",
    "\t\t\ttmp_key[0] = keys[-1][0] ^ self.sbox[keys[-1][13]] ^ self.rcon[i]\n",
    "\t\t\ttmp_key[1] = keys[-1][1] ^ self.sbox[keys[-1][14]]\n",
    "\t\t\ttmp_key[2] = keys[-1][2] ^ self.sbox[keys[-1][15]]\n",
    "\t\t\ttmp_key[3] = keys[-1][3] ^ self.sbox[keys[-1][12]]\n",
    "\t\t\tfor j in range(4,16):\n",
    "\t\t\t\ttmp_key[j] = tmp_key[j - 4] ^ keys[-1][j]\n",
    "\t\t\tkeys.append(tmp_key)\n",
    "\t\treturn keys\n",
    "\n",
    "\tdef mul2(x): # helper function for MixColumns\n",
    "\t\tif (x >> 7) == 0: return x << 1\n",
    "\t\telse: return (x << 1) ^ 0b100011011\n",
    "\n",
    "\tdef mul3(x): # helper function for MixColumns\n",
    "\t\treturn Cipher.mul2(x) ^ x\n",
    "\n",
    "\tdef ShiftRows(self,state):\n",
    "\t\tnewState = [0 for _ in range(16)]\n",
    "\t\tfor r in range(4):\n",
    "\t\t\tfor c in range(4):\n",
    "\t\t\t\tnewState[4*c + r] = state[4*((c+r) % 4) + r % 4]\n",
    "\t\treturn newState\n",
    "\n",
    "\t# change this to column wise matrix\n",
    "\tdef MixColumns(self,state):\n",
    "\t\tnewState = [0 for _ in range(16)]\n",
    "\t\tfor i in range(4):\n",
    "\t\t\tnewState[0+4*i] = Cipher.mul2(state[0+4*i]) ^ Cipher.mul3(state[1+4*i]) ^ state[2+4*i] ^ state[3+4*i]\n",
    "\t\t\tnewState[1+4*i] = state[0+4*i] ^ Cipher.mul2(state[1+4*i]) ^ Cipher.mul3(state[2+4*i]) ^ state[3+4*i]\n",
    "\t\t\tnewState[2+4*i] = state[0+4*i] ^ state[1+4*i] ^ Cipher.mul2(state[2+4*i]) ^ Cipher.mul3(state[3+4*i])\n",
    "\t\t\tnewState[3+4*i] = Cipher.mul3(state[0+4*i]) ^ state[1+4*i] ^ state[2+4*i] ^ Cipher.mul2(state[3+4*i])\n",
    "\t\treturn newState\n",
    "\n",
    "\tdef Substitution(self,state):\n",
    "\t\tfor i in range(16):\n",
    "\t\t\tstate[i] = self.sbox[state[i]]\n",
    "\t\treturn state\n",
    "\n",
    "\tdef AddRoundTweakey(self,state,key,tweak):\n",
    "\t\tfor i in range(16):\n",
    "\t\t\tstate[i] = state[i] ^ tweak[i] ^ key[i]\n",
    "\t\treturn state\n",
    "\n",
    "\tdef enc_one_round(self,state,key,tweak):\n",
    "\t\tstate = self.Substitution(state)\n",
    "\t\tstate = self.ShiftRows(state)\n",
    "\t\tstate = self.MixColumns(state)\n",
    "\t\tstate = self.AddRoundTweakey(state,key,tweak)\n",
    "\t\treturn state\n",
    "\n",
    "\tdef encrypt_block(self,state):\n",
    "\n",
    "\t\tstate = self.AddRoundTweakey(state,self.round_keys[0],self.tweak)\n",
    "\t\tfor i in range(9):\n",
    "\t\t\tstate = self.enc_one_round(state,self.round_keys[i+1],self.tweak)\n",
    "\t\tstate = self.Substitution(state)\n",
    "\t\tstate = self.ShiftRows(state)\n",
    "\t\tstate = self.AddRoundTweakey(state,self.round_keys[10],self.tweak)\n",
    "\t\treturn state\n",
    "\n",
    "\tdef pad(self,msg): # PKCS#7 padding\n",
    "\t\tpadding_len = 16 - (len(msg) % 16)\n",
    "\t\tpadding = bytes([padding_len] * padding_len)\n",
    "\t\treturn msg + padding\n",
    "\n",
    "\tdef encrypt_ecb(self,msg):\n",
    "\t\tmsg_bytes = bytearray(msg)\n",
    "\t\tmsg_padded = self.pad(msg_bytes).hex()\n",
    "\t\tmsg_padded = [int(msg_padded[2*i:2*i+2],16) for i in range(0,len(msg_padded)//2)]\n",
    "\t\tencrypted = ''\n",
    "\t\tfor i in range(len(msg_padded)//16):\n",
    "\t\t\toutput = self.encrypt_block(msg_padded[16*i:16*i+16])\n",
    "\t\t\tencrypted += ''.join([hex(h)[2:].zfill(2) for h in output])\n",
    "\t\treturn encrypted\n",
    "\n",
    "\tinv_sbox = [0xff,0xf8,0xf9,0xfe,0xfb,0xfc,0xfd,0xfa,0xf6,0xf1,0xf0,0xf7,0xf2,0xf5,0xf4,0xf3,0x8f,0x88,0x89,0x8e,0x8b,0x8c,0x8d,0x8a,0x86,0x81,0x80,0x87,0x82,0x85,0x84,0x83,0x9f,0x98,0x99,0x9e,0x9b,0x9c,0x9d,0x9a,0x96,0x91,0x90,0x97,0x92,0x95,0x94,0x93,0xef,0xe8,0xe9,0xee,0xeb,0xec,0xed,0xea,0xe6,0xe1,0xe0,0xe7,0xe2,0xe5,0xe4,0xe3,0xbf,0xb8,0xb9,0xbe,0xbb,0xbc,0xbd,0xba,0xb6,0xb1,0xb0,0xb7,0xb2,0xb5,0xb4,0xb3,0xcf,0xc8,0xc9,0xce,0xcb,0xcc,0xcd,0xca,0xc6,0xc1,0xc0,0xc7,0xc2,0xc5,0xc4,0xc3,0xdf,0xd8,0xd9,0xde,0xdb,0xdc,0xdd,0xda,0xd6,0xd1,0xd0,0xd7,0xd2,0xd5,0xd4,0xd3,0xaf,0xa8,0xa9,0xae,0xab,0xac,0xad,0xaa,0xa6,0xa1,0xa0,0xa7,0xa2,0xa5,0xa4,0xa3,0x6f,0x68,0x69,0x6e,0x6b,0x6c,0x6d,0x6a,0x66,0x61,0x60,0x67,0x62,0x65,0x64,0x63,0x1f,0x18,0x19,0x1e,0x1b,0x1c,0x1d,0x1a,0x16,0x11,0x10,0x17,0x12,0x15,0x14,0x13,0xf,0x8,0x9,0xe,0xb,0xc,0xd,0xa,0x6,0x1,0x0,0x7,0x2,0x5,0x4,0x3,0x7f,0x78,0x79,0x7e,0x7b,0x7c,0x7d,0x7a,0x76,0x71,0x70,0x77,0x72,0x75,0x74,0x73,0x2f,0x28,0x29,0x2e,0x2b,0x2c,0x2d,0x2a,0x26,0x21,0x20,0x27,0x22,0x25,0x24,0x23,0x5f,0x58,0x59,0x5e,0x5b,0x5c,0x5d,0x5a,0x56,0x51,0x50,0x57,0x52,0x55,0x54,0x53,0x4f,0x48,0x49,0x4e,0x4b,0x4c,0x4d,0x4a,0x46,0x41,0x40,0x47,0x42,0x45,0x44,0x43,0x3f,0x38,0x39,0x3e,0x3b,0x3c,0x3d,0x3a,0x36,0x31,0x30,0x37,0x32,0x35,0x34,0x33]\n",
    "\n",
    "\tdef invSubstitution(self,state):\n",
    "\t\tfor i in range(16):\n",
    "\t\t\tstate[i] = self.inv_sbox[state[i]]\n",
    "\t\treturn state\n",
    "\n",
    "\tdef invShiftRows(self,state):\n",
    "\t\tfor _ in range(3):\n",
    "\t\t\tstate = self.ShiftRows(state)\n",
    "\t\treturn state\n",
    "\t\n",
    "\tdef invMixColumns(self,state):\n",
    "\t\tfor _ in range(3):\n",
    "\t\t\tstate = self.MixColumns(state)\n",
    "\t\treturn state\n",
    "\n",
    "\tdef dec_one_round(self,state,key,tweak):\n",
    "\t\tstate = self.AddRoundTweakey(state,key,tweak)\n",
    "\t\tstate = self.invMixColumns(state)\n",
    "\t\tstate = self.invShiftRows(state)\n",
    "\t\tstate = self.invSubstitution(state)\n",
    "\t\treturn state\n",
    "\n",
    "\tdef decrypt_block(self,state):\n",
    "\t\tstate = self.AddRoundTweakey(state,self.round_keys[10],self.tweak)\n",
    "\t\tstate = self.invShiftRows(state)\n",
    "\t\tstate = self.invSubstitution(state)\n",
    "\t\tfor i in range(10,1,-1):\n",
    "\t\t\tstate = self.dec_one_round(state,self.round_keys[i-1],self.tweak)\n",
    "\t\tstate = self.AddRoundTweakey(state,self.round_keys[0],self.tweak)\n",
    "\t\treturn state\n",
    "\n",
    "\tdef decrypt_ecb(self,ciphertext):\n",
    "\t\tdecrypted = ''\n",
    "\t\tfor i in range(len(ciphertext)//32):\n",
    "\t\t\toutput = self.decrypt_block([int(ciphertext[j:j+2],16) for j in range(32*i,32*i+32,2)])\n",
    "\t\t\tdecrypted += ''.join([hex(h)[2:].zfill(2) for h in output])\n",
    "\t\treturn bytes.fromhex(decrypted)"
   ]
  },
  {
   "cell_type": "markdown",
   "metadata": {},
   "source": [
    "# 1st Vulnerability - ECB Mode\n",
    "\n",
    "The Electronic codebook (ECB) mode is vulnerable because identical plaintext blocks are always encrypted into identical ciphertext blocks, i.e. each block is processed independently without any relationship to the other blocks in the plaintext.\n",
    "\n",
    "I will demonstrate this vulnerability below."
   ]
  },
  {
   "cell_type": "code",
   "execution_count": 2,
   "metadata": {},
   "outputs": [
    {
     "name": "stdout",
     "output_type": "stream",
     "text": [
      "padded plain text: b'Attack at dawn !\\x10\\x10\\x10\\x10\\x10\\x10\\x10\\x10\\x10\\x10\\x10\\x10\\x10\\x10\\x10\\x10'\n",
      "cipher text: 7ba2f125d4b7a086cb9ecb8a99613928603a91d194cc6fe9bbeca13072f2b9ae603a91d194cc6fe9bbeca13072f2b9ae\n",
      "-> plain  text block 1: b'Attack at dawn !'\n",
      "-> cipher text block 1: 7ba2f125d4b7a086cb9ecb8a99613928\n",
      "\n",
      "-> plain  text block 2: b'\\x10\\x10\\x10\\x10\\x10\\x10\\x10\\x10\\x10\\x10\\x10\\x10\\x10\\x10\\x10\\x10'\n",
      "-> cipher text block 2: 603a91d194cc6fe9bbeca13072f2b9ae\n",
      "\n",
      "----------------------------------------------------------------------------------------------------\n",
      "padded plain text: b'Attack at dawn !Attack at dawn !\\x10\\x10\\x10\\x10\\x10\\x10\\x10\\x10\\x10\\x10\\x10\\x10\\x10\\x10\\x10\\x10'\n",
      "cipher text: 7ba2f125d4b7a086cb9ecb8a996139287ba2f125d4b7a086cb9ecb8a99613928603a91d194cc6fe9bbeca13072f2b9ae603a91d194cc6fe9bbeca13072f2b9ae\n",
      "-> plain  text block 1: b'Attack at dawn !'\n",
      "-> cipher text block 1: 7ba2f125d4b7a086cb9ecb8a99613928\n",
      "\n",
      "-> plain  text block 2: b'Attack at dawn !'\n",
      "-> cipher text block 2: 7ba2f125d4b7a086cb9ecb8a99613928\n",
      "\n",
      "-> plain  text block 3: b'\\x10\\x10\\x10\\x10\\x10\\x10\\x10\\x10\\x10\\x10\\x10\\x10\\x10\\x10\\x10\\x10'\n",
      "-> cipher text block 3: 603a91d194cc6fe9bbeca13072f2b9ae\n",
      "\n",
      "----------------------------------------------------------------------------------------------------\n"
     ]
    }
   ],
   "source": [
    "random_tweat = secrets.randbits(128)\n",
    "test_cipher = Cipher(random_tweat)\n",
    "\n",
    "plaintexts = [\n",
    "    b'Attack at dawn !',\n",
    "    b'Attack at dawn !Attack at dawn !',\n",
    "]\n",
    "\n",
    "for plaintext in plaintexts:\n",
    "\tmsg_padded = test_cipher.pad(plaintext)\n",
    "\tciphertext = test_cipher.encrypt_ecb(msg_padded)\n",
    "\tprint(f'padded plain text: {msg_padded}')\n",
    "\tprint(f'cipher text: {ciphertext}')\n",
    "\t# Each block is 16 charcaters and it will be padded.\n",
    "\tfor i in range(len(msg_padded)//16):\n",
    "\t\tprint(f'-> plain  text block {i+1}: {msg_padded[16*i:16*i+16]}')\n",
    "\t\tprint(f'-> cipher text block {i+1}: {ciphertext[32*i:32*i+32]}\\n')\n",
    "\tprint('-'*100)\n",
    "\t\n",
    "\t"
   ]
  },
  {
   "cell_type": "markdown",
   "metadata": {},
   "source": [
    "# 2nd Vulnerability - Linearity\n",
    "\n",
    "Linearity is a property that can characterise the encryption function. Given that our encryption takes in the plaintext $p$, the key $k$, and the tweak $t$, and outputs the ciphertext $c$, we can express the encryption function as $E(p, k, t)$. Linearity implies that $E(p, k, t) = F(p) + G(k) + H(t)$ for some functions $F$, $G$, and $H$. This concept is also referenced in Hint 1.\n",
    "\n",
    "- $F(p)$ represents the transformation applied to the plaintext $p$, such as `Substitution`, `ShiftRows`, and `MixColumns`.\n",
    "- $G(k)$ represents the component of the encryption that depends on the key $k$, such as `KeySchedule` and `AddRoundTweakey`.\n",
    "- $H(t)$ represents the influence of the tweak $t$ on the encryption, such as in `AddRoundTweakey`.\n",
    "\n",
    "In the finite field $GF(2)$, addition and subtraction of bits are equivalent to the XOR operation. Thus, we can also express the equation as:\n",
    "\n",
    "$E(p, k, t) = F(p) + G(k) + H(t) = F(p) \\oplus G(k) \\oplus H(t)$\n",
    "\n",
    "Since this vulnerability hinges on the linearity of the encryption function, I will proceed to use Linear Approximation Table and Difference Distribution Table to validate this property.\n",
    "\n",
    "There are some underlying properties that might be crucial but I will not formally prove them, as they are considered trivial. For example, for it to be linear, the S Box needs to be bijective. This is trivial since this is an encryption that also required to descrypt so usually it will be design to have an one-to-one mapping. Verifying this property is straightforward and thus omitted from this analysis."
   ]
  },
  {
   "cell_type": "markdown",
   "metadata": {},
   "source": [
    "# Linear Approximation Table (LAT)"
   ]
  },
  {
   "cell_type": "code",
   "execution_count": 3,
   "metadata": {},
   "outputs": [],
   "source": [
    "import numpy as np\n",
    "\n",
    "def generate_lat(sbox):\n",
    "    size = len(sbox)\n",
    "    lat = np.zeros((size, size), dtype=int)\n",
    "    for row in range(size):\n",
    "        for col in range(size):\n",
    "            total = 0\n",
    "            for ii in range(size):\n",
    "                input_masked = ii & row\n",
    "                output_masked = sbox[ii] & col\n",
    "                if (bin(input_masked).count('1') - bin(output_masked).count('1')) % 2 == 0:\n",
    "                    total += 1\n",
    "            lat[row][col] = total - (size//2)\n",
    "    return lat\n",
    "# Improvement by ChatGPT\n",
    "def generate_lat_ChatGPT(sbox):\n",
    "    size = len(sbox)\n",
    "    half_size = size // 2\n",
    "    lat = np.zeros((size, size))\n",
    "    \n",
    "    bit_count = np.vectorize(lambda x: bin(x).count('1'))(np.arange(size))\n",
    "    for row in range(size):\n",
    "        for col in range(size):\n",
    "            input_masked = np.bitwise_and(np.arange(size), row)\n",
    "            output_masked = np.bitwise_and(sbox, col)\n",
    "            lat[row, col] = np.sum((bit_count[input_masked] % 2) == (bit_count[output_masked] % 2)) - half_size\n",
    "    \n",
    "    return lat\n",
    "# Improvement by Claude\n",
    "def generate_lat_Claude(sbox):\n",
    "    size = len(sbox)\n",
    "    half_size = size // 2\n",
    "    lat = np.zeros((size, size), dtype=np.int16)\n",
    "    \n",
    "    bit_count = np.unpackbits(np.arange(size, dtype=np.uint8)[:, np.newaxis], axis=1).sum(axis=1)\n",
    "    \n",
    "    input_range = np.arange(size)\n",
    "    sbox_array = np.array(sbox, dtype=np.uint8)\n",
    "    \n",
    "    for row in range(size):\n",
    "        input_masked = np.bitwise_and(input_range, row)\n",
    "        output_masked = np.bitwise_and(sbox_array, np.arange(size)[:, np.newaxis])\n",
    "        \n",
    "        input_parity = bit_count[input_masked] & 1\n",
    "        output_parity = bit_count[output_masked] & 1\n",
    "        \n",
    "        lat[row] = np.sum(input_parity[:, np.newaxis] == output_parity, axis=0) - half_size\n",
    "    \n",
    "    return lat\n",
    "\n",
    "# Use the S box from the Cipher class\n",
    "sbox = Cipher.sbox\n",
    "\n",
    "# Generate LAT\n",
    "lat = generate_lat(sbox)"
   ]
  },
  {
   "cell_type": "code",
   "execution_count": 4,
   "metadata": {},
   "outputs": [
    {
     "name": "stdout",
     "output_type": "stream",
     "text": [
      "Linear Approximation Table (partial):\n",
      "[[ 128    0    0    0    0    0    0    0    0    0]\n",
      " [   0    0    0    0    0    0    0    0    0 -128]\n",
      " [   0    0    0 -128    0    0    0    0    0    0]\n",
      " [   0    0    0    0    0    0    0    0    0    0]\n",
      " [   0    0    0    0    0    0    0 -128    0    0]\n",
      " [   0    0    0    0    0    0    0    0    0    0]\n",
      " [   0    0    0    0  128    0    0    0    0    0]\n",
      " [   0    0    0    0    0    0    0    0    0    0]\n",
      " [   0    0    0    0    0    0    0    0 -128    0]\n",
      " [   0  128    0    0    0    0    0    0    0    0]]\n"
     ]
    }
   ],
   "source": [
    "print(\"Linear Approximation Table (partial):\")\n",
    "print(lat[:10, :10])"
   ]
  },
  {
   "cell_type": "markdown",
   "metadata": {},
   "source": [
    "## Analysis of the LAT\n",
    "\n",
    "In this section, I will omit many rigorous proofs for simplicity. The concept of bias refers to how closely an encryption process approximates randomness. A higher bias indicates less randomness. Our goal is to identify the highest bias.\n",
    "\n",
    "Using some known results, we can ignore the first row and column of the Linear Approximation Table (LAT), as they represent trivial cases. We will then divide the remaining values by the theoretical maximum, which is $2^{n-1}$ for an $n$-bit input and output. For 8-bit inputs and outputs, this value is $2^{8-1} = 128$. If the result is close to 1, it suggests high linearity."
   ]
  },
  {
   "cell_type": "code",
   "execution_count": 5,
   "metadata": {},
   "outputs": [
    {
     "name": "stdout",
     "output_type": "stream",
     "text": [
      "Maximum Linear Bias: 1.0\n"
     ]
    }
   ],
   "source": [
    "max_linear_bias = np.max(np.abs(lat[1:, 1:])) / 128.0\n",
    "\n",
    "print(f\"Maximum Linear Bias: {max_linear_bias}\")"
   ]
  },
  {
   "cell_type": "markdown",
   "metadata": {},
   "source": [
    "# Difference Distribution Table (DDT)"
   ]
  },
  {
   "cell_type": "code",
   "execution_count": 6,
   "metadata": {},
   "outputs": [],
   "source": [
    "def generate_ddt(sbox):\n",
    "    size = len(sbox)\n",
    "    ddt = np.zeros((size, size), dtype=int)\n",
    "    for input_diff in range(size):\n",
    "        for x in range(size):\n",
    "            output_diff = sbox[x] ^ sbox[x ^ input_diff]\n",
    "            ddt[input_diff][output_diff] += 1\n",
    "    return ddt\n",
    "\n",
    "# Use the S box from the Cipher class\n",
    "sbox = Cipher.sbox\n",
    "\n",
    "# Generate LAT and DDT\n",
    "ddt = generate_ddt(sbox)"
   ]
  },
  {
   "cell_type": "code",
   "execution_count": 7,
   "metadata": {},
   "outputs": [
    {
     "name": "stdout",
     "output_type": "stream",
     "text": [
      "\n",
      "Differential Distribution Table (partial):\n",
      "[[256   0   0   0   0   0   0   0   0   0]\n",
      " [  0   0   0 256   0   0   0   0   0   0]\n",
      " [  0   0   0   0   0   0 256   0   0   0]\n",
      " [  0   0   0   0   0 256   0   0   0   0]\n",
      " [  0   0   0   0 256   0   0   0   0   0]\n",
      " [  0   0   0   0   0   0   0 256   0   0]\n",
      " [  0   0 256   0   0   0   0   0   0   0]\n",
      " [  0 256   0   0   0   0   0   0   0   0]\n",
      " [  0   0   0   0   0   0   0   0   0   0]\n",
      " [  0   0   0   0   0   0   0   0 256   0]]\n"
     ]
    }
   ],
   "source": [
    "print(\"\\nDifferential Distribution Table (partial):\")\n",
    "print(ddt[:10, :10])"
   ]
  },
  {
   "cell_type": "markdown",
   "metadata": {},
   "source": [
    "## Analysis of the DDT\n",
    "\n",
    "Without delving into the detailed proofs of the formulas, the analysis of the Difference Distribution Table (DDT) is quite similar to that of the LAT, as they share many underlying concepts. The theoretical maximum value is $2^{n}$ for $n$-bit inputs and outputs. For 8-bit inputs and outputs, this is $2^8 = 256$."
   ]
  },
  {
   "cell_type": "code",
   "execution_count": 8,
   "metadata": {},
   "outputs": [
    {
     "name": "stdout",
     "output_type": "stream",
     "text": [
      "Maximum Differential Probability: 1.0\n"
     ]
    }
   ],
   "source": [
    "max_differential_prob = np.max(ddt[1:, 1:]) / 256.0\n",
    "\n",
    "print(f\"Maximum Differential Probability: {max_differential_prob}\")"
   ]
  },
  {
   "cell_type": "markdown",
   "metadata": {},
   "source": [
    "# Known Plaintext Attack\n",
    "\n",
    "Since the cipher operates in ECB mode, we can focus on a single block of data. Additionally, we know that $E(p, k, t) = F(p) \\oplus G(k) \\oplus H(t)$. Let there also be a decryption function $D$ such that $D_{k,t}(E(p, k, t)) = p$.\n",
    "\n",
    "This outlines the path for the attack.\n",
    "\n",
    "Given a known plaintext, $p_1$, our goal is to find another unknown plaintext, $p_2$. Both have been encrypted using the same unknown key $k$ and tweak $t$.\n",
    "\n",
    "We can express the situation as follows, where we know $p_1$, $c_1$, and $c_2$, with the following relationships:\n",
    "- $E(p_1, k, t) = F(p_1) \\oplus G(k) \\oplus H(t) = c_1$.\n",
    "- $E(p_2, k, t) = F(p_2) \\oplus G(k) \\oplus H(t) = c_2$.\n",
    "\n",
    "Since we have access to the cipher's code, we can create our own version of the cipher. We can choose our own key and tweak. For simplicity, I will follow the hint and select $0$ for both, then generate a new ciphertext $c_3$:\n",
    "\n",
    "- $E(p_1, 0, 0) = F(p_1) \\oplus G(0) \\oplus H(0) = c_3$.\n",
    "\n",
    "We can then eliminate the influence of the plaintext on the ciphertext using the XOR operation:\n",
    "\n",
    "- $c_1 \\oplus c_3 = F(p_1) \\oplus G(k) \\oplus H(t) \\oplus F(p_1) \\oplus G(0) \\oplus H(0)$.\n",
    "\n",
    "Using the commutative and associative properties of XOR:\n",
    "- $c_1 \\oplus c_3 = G(k) \\oplus H(t) \\oplus G(0) \\oplus H(0)$.\n",
    "\n",
    "Next, we can indirectly encrypt the unknown plaintext using our chosen key and tweak:\n",
    "- $c_1 \\oplus c_3 \\oplus c_2 = G(k) \\oplus H(t) \\oplus G(0) \\oplus H(0) \\oplus F(p_2) \\oplus G(k) \\oplus H(t)$.\n",
    "\n",
    "Applying XOR’s commutative and associative properties again:\n",
    "- $c_1 \\oplus c_3 \\oplus c_2 = F(p_2) \\oplus G(0) \\oplus H(0) = E(p_2, 0, 0) = c_4$.\n",
    "\n",
    "Decryption can be performed easily using the code:\n",
    "- $D_{0,0}(c_1 \\oplus c_3 \\oplus c_2) = D_{0,0}(E(p_2, 0, 0)) = p_2$.\n",
    "\n",
    "Thus, the attack path can be summarised as:\n",
    "- $D_{0,0}(E(p_1, 0, 0) \\oplus c_1 \\oplus c_2) = p_2$."
   ]
  },
  {
   "cell_type": "code",
   "execution_count": 9,
   "metadata": {},
   "outputs": [],
   "source": [
    "# Given\n",
    "plaintexts = [\n",
    "b\"Harnessing cutting-edge digital innovations and solutions\",\n",
    "b\"Design. Develop. Defend.\", \n",
    "b\"Be a part of the tech community\",\n",
    "b\"Integrity. Innovation. Teamwork. Agility. Learning.\",\n",
    "b\"root@csit:~# ./future\",\n",
    "b\"Secure the digital world. Be the first line of defense.\",\n",
    "b\"Join the battle against cyber threats and keep information safe.\",\n",
    "b\"Guard the digital frontier and make a real impact.\", \n",
    "b\"Be the shield that protects against online dangers.\",\n",
    "b\"?????????????????????????????????\",\n",
    "]\n",
    "\n",
    "ciphertexts = [\n",
    "b'a128c60763025412a44dfaf819e949f655a268d35d695495ddf070129a3bfe1037f86eb77b717671c4f70bf9367293fa3d1b3837a6b71108638e16762167e0c3',\n",
    "b'd2c002f20002df676296ea80874ac07ae5ad0b3a3366d47d8a5d4c9f138b21b8',\n",
    "b'83617f6b832f054a515d8b104ddb62f58043e40d59287bdd796924cd14cb7665',\n",
    "b'288c2f644f03a5e665fd3fbcc55246d76db1132f0fcee3ad58bdb210728a495a7f9bdab320a68d5d3bdf1d4b5084dad5db982bee4f1d1bdcd8e7b80a5e455a55',\n",
    "b'b6ecbb8e36e901e6c6a561a9ec366a83918cd5f9b8efe1e8921fb6944d5d233b',\n",
    "b'757069e4e785688a1d8b067910d719e20d61693a7bdb5eb61885fa61ed6b81ad239b901a3111c24a5e186cbf5e946a52872f8013660bcbf8ac6ab64f416143e4',\n",
    "b'59281b1bead825b2aa5e0a363bdd4029805968ccf463084b53c3c7bc1c38a531432fd52da7f6931849cc6a5d870d801e8a137f2ae659540610ffff68fe56111a6defca218e5802eeb46473209dbb3c6c',\n",
    "b'233e4bfb2af0b41ecf07a28b292c16a5a5a685d771d751881e6ea5ff1f742cf4d8d41cd63d3bf4c0bfae77fc96d9bd78694b799f8c1026a7774762cd1a6b69e4',\n",
    "b'799ae1d0c87431b24057034e076940004dd894c186c16da4a2239734fcc7a85ef40290e02b09718c2a1598f9028ae2c64a635a1c9f1cb0377cd7bf4cb994ed77',\n",
    "b'0697e1dae2225429fcebf68ca0ded61c8a091a3ad7ed7860d43be87c62b70aebf5ce4615903a3d2a219cabc9ce2f4a35',\n",
    "]"
   ]
  },
  {
   "cell_type": "code",
   "execution_count": 10,
   "metadata": {},
   "outputs": [
    {
     "name": "stdout",
     "output_type": "stream",
     "text": [
      "F(p_1) + G(0) + H(0) = [157, 56, 250, 209, 33, 53, 195, 224, 224, 183, 247, 179, 194, 103, 182, 174]\n"
     ]
    }
   ],
   "source": [
    "# E(p_1, 0, 0) = F(p_1) + G(0) + H(0)\n",
    "def get_p1(plaintexts, pos):\n",
    "    msg = bytearray(plaintexts[0]).hex()\n",
    "    return [int(msg[2*i:2*i+2],16) for i in range(0,len(msg)//2)]\n",
    "\n",
    "zero_cipher = Cipher(0)\n",
    "zero_cipher.key = 0\n",
    "chosen_index = 1\n",
    "p1 = get_p1(plaintexts, 1)\n",
    "c3 = zero_cipher.encrypt_block(p1)\n",
    "print(f\"F(p_1) + G(0) + H(0) = {c3}\")"
   ]
  },
  {
   "cell_type": "code",
   "execution_count": 11,
   "metadata": {},
   "outputs": [
    {
     "name": "stdout",
     "output_type": "stream",
     "text": [
      "F(p_1) + G(k) + H(t) = [157, 56, 250, 209, 33, 53, 195, 224, 224, 183, 247, 179, 194, 103, 182, 174]\n"
     ]
    }
   ],
   "source": [
    "# F(p_1) + G(k) + H(t)\n",
    "chosen_ciphertext = ciphertexts[0][:32]\n",
    "c1 = [int(chosen_ciphertext[i:i+2], 16) for i in range(0, len(chosen_ciphertext), 2)]\n",
    "print(f\"F(p_1) + G(k) + H(t) = {c3}\")"
   ]
  },
  {
   "cell_type": "code",
   "execution_count": 12,
   "metadata": {},
   "outputs": [
    {
     "name": "stdout",
     "output_type": "stream",
     "text": [
      "G(k) + H(t) + G(0) + H(0) = [60, 16, 60, 214, 66, 55, 151, 242, 68, 250, 13, 75, 219, 142, 255, 88]\n"
     ]
    }
   ],
   "source": [
    "# G(k) + H(t) + G(0) + H(0)\n",
    "gk_ht_g0_h0 = [c1[i] ^ c3[i] for i in range(16)]\n",
    "print(f\"G(k) + H(t) + G(0) + H(0) = {gk_ht_g0_h0}\")"
   ]
  },
  {
   "cell_type": "code",
   "execution_count": 13,
   "metadata": {},
   "outputs": [
    {
     "name": "stdout",
     "output_type": "stream",
     "text": [
      "The flag is CSIT{11NE@rciPH3R$aRE3aSytocR4CK}\u000f\u000f\u000f\u000f\u000f\u000f\u000f\u000f\u000f\u000f\u000f\u000f\u000f\u000f\u000f\n"
     ]
    }
   ],
   "source": [
    "target = ciphertexts[9]\n",
    "decrypted = ''\n",
    "# ECB mode so need to split into block\n",
    "for i in range(len(target)//32):\n",
    "    c3 = [int(target[j:j+2],16) for j in range(32*i,32*i+32,2)]\n",
    "    # c_1 ^ c_2 ^ c_3 = F(p_2) + G(0) + H(0)\n",
    "    c4 = [c3[i] ^ gk_ht_g0_h0[i] for i in range(16)]\n",
    "    output = zero_cipher.decrypt_block(c4)\n",
    "    # Concatenate the blocks together\n",
    "    decrypted += ''.join(chr(b) for b in output)\n",
    "print(f'The flag is {decrypted}')"
   ]
  },
  {
   "cell_type": "code",
   "execution_count": null,
   "metadata": {},
   "outputs": [],
   "source": []
  }
 ],
 "metadata": {
  "kernelspec": {
   "display_name": "Python 3",
   "language": "python",
   "name": "python3"
  },
  "language_info": {
   "codemirror_mode": {
    "name": "ipython",
    "version": 3
   },
   "file_extension": ".py",
   "mimetype": "text/x-python",
   "name": "python",
   "nbconvert_exporter": "python",
   "pygments_lexer": "ipython3",
   "version": "3.8.15"
  }
 },
 "nbformat": 4,
 "nbformat_minor": 2
}
